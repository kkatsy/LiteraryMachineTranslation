{
 "cells": [
  {
   "cell_type": "code",
   "execution_count": 1,
   "metadata": {},
   "outputs": [],
   "source": [
    "import pickle\n",
    "\n",
    "# open dictionary of lang to works with >=3 translations\n",
    "par3_fp = \"par3_top.pickle\"\n",
    "lang_to_top = pickle.load(open(par3_fp, 'rb'))"
   ]
  },
  {
   "cell_type": "code",
   "execution_count": 4,
   "metadata": {},
   "outputs": [
    {
     "name": "stdout",
     "output_type": "stream",
     "text": [
      "Paragraph:  Проснулся: умеренный, синеватый свет; блестит стекло стен, стеклянные кресла, стол. Это успокоило, сердце перестало колотиться. Сок, Будда… что за абсурд? Ясно: болен. Раньше я никогда не видел снов. Говорят, у древних это было самое обыкновенное и нормальное – видеть сны. Ну да: ведь и вся жизнь у них была вот такая ужасная карусель: зеленое – оранжевое – Будда – сок. Но мы-то знаем, что сны – это серьезная психическая болезнь. И я знаю: до сих пор мой мозг был хронометрически выверенным, сверкающим, без единой соринки механизмом, а теперь… Да, теперь именно так: я чувствую там, в мозгу, какое-то инородное тело – как тончайший ресничный волосок в глазу: всего себя чувствуешь, а вот этот глаз с волоском – нельзя о нем забыть ни на секунду…\n",
      "Index:  631\n"
     ]
    }
   ],
   "source": [
    "for i, par in enumerate(lang_to_top['ru']['we']['source_paras']):\n",
    "    if 'Проснулся: умеренный' in par:\n",
    "        print('Paragraph: ', par)\n",
    "        print('Index: ', i)\n",
    "        break\n",
    "\n",
    "source_translation = lang_to_top['ru']['we']['source_paras'][i]"
   ]
  },
  {
   "cell_type": "code",
   "execution_count": 3,
   "metadata": {},
   "outputs": [
    {
     "data": {
      "text/plain": [
       "'Awake: moderate, bluish light; glittering glass walls, glass chairs, table. It calmed her down and her heart stopped beating. Sok, Buddha... what an absurdity? Obviously sick. I have never dreamed before. They say that among the ancients it was the most ordinary and normal thing - to dream. Well, yes: after all, their whole life was such a terrible carousel: green - orange - Buddha - juice. But we know that dreams are a serious mental illness. And I know: until now, my brain was a chronometrically verified, sparkling, without a single mote mechanism, but now ... Yes, now it’s exactly like this: I feel there, in the brain, some kind of foreign body - like the thinnest ciliary hair in the eye: everything you feel yourself, but this eye with a hair - you can’t forget about it for a second ...'"
      ]
     },
     "execution_count": 3,
     "metadata": {},
     "output_type": "execute_result"
    }
   ],
   "source": [
    "gt_translation = lang_to_top['ru']['we']['gt_paras'][631]\n",
    "gt_translation"
   ]
  },
  {
   "cell_type": "code",
   "execution_count": 5,
   "metadata": {},
   "outputs": [
    {
     "data": {
      "text/plain": [
       "['I woke up. Soft blue light, the glass of the walls, of the chairs, of the table was glimmering. This calmed me. My heart stopped palpitating. Sap! Buddha! How absurd! I am sick , it is clear; I never saw dreams before. They say that to see dreams was a common normal thing with the ancients. Yes, after all, their life was a whirling carousel: green, orange, Buddha, sap,—but we, people of today, we know all too well that dreaming is a serious mental disease. I.... Is it possible that my brain, this precise, clean, glittering mechanism, like a chronometer without a speck of dust on it, is...? Yes it is, now. I really feel there in the brain some foreign body like an eyelash in the eye. One does not feel one’s whole body but this eye with a hair in it, one cannot forget it for a second....',\n",
       " \"I woke: soft, bluish light, glimmer of glass walls, glass chairs and table. This calmed me; my heart stopped hammering. Sap, Buddha ... what nonsense! Clearly I must be ill. I have never dreamed before. They say that with the ancients dreaming was a perfectly ordinary, normal occurrence. But of course, their whole life was a dreadful whirling carousel—green, orange, Buddhas, sap. We, however, know that dreams are a serious psychic disease. And I know that until this moment my brain has been a chronometrically exact gleaming mechanism without a single speck of dust. But now . . . Yes, precisely: I feel some alien body in my brain, like the finest eyelash in the eye. You do not feel your body, but that eye with the lash in it —you can't forget it for a second.\",\n",
       " 'I awoke: a moderate bluish light. The glass of the walls was sparkling, the glass chair and table, too. All this was calming; my heart ceased to pound. Sap, the Buddha … what is this absurdity? It is clear: I am sick. I have never had dreams before. They say that for the Ancients, it was absolutely usual and normal to have dreams. Yes, of course, it seems their whole existence was just such a horrific carousel: green, orange, Buddha, sap. But we, here and now, know that dreams are a serious psychic disease. I also know: until now my brain was chronometrically regulated and gleaming, a mechanism without a single speck, but now … Yes, particularly now: I feel some kind of foreign body in there, in my brain, like a fine eyelash in the eye—the rest of you doesn’t feel it, but the eye with the eyelash in it can’t forget about it for a second …',\n",
       " 'I wake up. Mild bluish light. The glass walls, the glass armchairs, the table were all glistening. This was reassuring. My heart stopped hammering. Juice? Buddha? What kind of nonsense... ? It was clear: I was sick. I never used to dream. They say in the old days it was the most normal thing in the world to have dreams. Which makes sense: Their whole life was some kind of horrible merry-go-round of green, orange, Buddha, juice. But today we know that dreams point to a serious mental illness. And I know that up to now my brain has checked out chronometrically perfect, a mechanism without a speck of dust to dull its shine ... and now what? Now ... what I feel there in my brain is just like... some kind of foreign body... like having a very thin little eyelash in your eye. You feel generally okay, but that eye with the lash in it —you can’t get it off your mind for a second.',\n",
       " 'I woke up. Soft blue light, the glass of the walls, of the chairs, of the table was glimmering. This calmed me. My heart stopped palpitating. Sap! Buddha! How absurd! I am sick , it is clear; I never saw dreams before. They say that to see dreams was a common normal thing with the ancients. Yes, after all, their life was a whirling carousel: green, orange, Buddha, sap. But we, people of today, we know all too well that dreaming is a serious mental disease. I … Is it possible that my brain, this precise, clean, glittering mechanism, like a chronometer without a speck of dust on it, is …? Yes, it is, now. I really feel there in the brain some foreign body like an eyelash in the eye. One does not feel one’s whole body, but this eye with a hair in it; one cannot forget it for a second.…']"
      ]
     },
     "execution_count": 5,
     "metadata": {},
     "output_type": "execute_result"
    }
   ],
   "source": [
    "human_translations = []\n",
    "for t in lang_to_top['ru']['we']['translator_data'].keys():\n",
    "    human_translations.append(lang_to_top['ru']['we']['translator_data'][t]['translator_paras'][631])\n",
    "\n",
    "human_translations"
   ]
  },
  {
   "cell_type": "code",
   "execution_count": null,
   "metadata": {},
   "outputs": [],
   "source": []
  }
 ],
 "metadata": {
  "kernelspec": {
   "display_name": "base",
   "language": "python",
   "name": "python3"
  },
  "language_info": {
   "codemirror_mode": {
    "name": "ipython",
    "version": 3
   },
   "file_extension": ".py",
   "mimetype": "text/x-python",
   "name": "python",
   "nbconvert_exporter": "python",
   "pygments_lexer": "ipython3",
   "version": "3.8.8"
  },
  "orig_nbformat": 4
 },
 "nbformat": 4,
 "nbformat_minor": 2
}
