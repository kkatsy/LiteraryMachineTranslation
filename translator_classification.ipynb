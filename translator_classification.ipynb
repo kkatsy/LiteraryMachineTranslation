{
 "cells": [
  {
   "cell_type": "code",
   "execution_count": 1,
   "metadata": {},
   "outputs": [],
   "source": [
    "import pickle\n",
    "\n",
    "# open dictionary of lang to works with >=3 translations\n",
    "par3_fp = \"par3_top.pickle\"\n",
    "lang_to_top = pickle.load(open(par3_fp, 'rb'))"
   ]
  },
  {
   "cell_type": "code",
   "execution_count": null,
   "metadata": {},
   "outputs": [],
   "source": []
  },
  {
   "cell_type": "code",
   "execution_count": null,
   "metadata": {},
   "outputs": [],
   "source": [
    "! pip install transformers"
   ]
  },
  {
   "cell_type": "code",
   "execution_count": null,
   "metadata": {},
   "outputs": [],
   "source": [
    "import torch\n",
    "\n",
    "device = torch.device(\"cuda\" if torch.cuda.is_available() else \"cpu\")"
   ]
  },
  {
   "cell_type": "code",
   "execution_count": null,
   "metadata": {},
   "outputs": [],
   "source": [
    "import glob\n",
    "\n",
    "path_1 = 'russian_lit/ru_books_text_cleaner/copyrighted'\n",
    "path_2 = 'russian_lit/ru_books_text_cleaner/non_copyrighted'\n",
    "path_3 = 'russian_lit/ru_books_text_cleaner'\n",
    "\n",
    "files_1 = glob.glob(path_1 + '/*.txt')\n",
    "files_2 = glob.glob(path_2 + '/*.txt')\n",
    "files_3 = glob.glob(path_3 + '/*.txt')\n",
    "files = files_1 + files_2 + files_3\n",
    "\n",
    "\n",
    "for f in files:\n",
    "    book_title = (f.split('/')[1]).split('.')[0]\n",
    "    with open(f, \"r\") as fp:\n",
    "        book_text = fp.read()"
   ]
  },
  {
   "cell_type": "code",
   "execution_count": null,
   "metadata": {},
   "outputs": [],
   "source": []
  },
  {
   "cell_type": "code",
   "execution_count": null,
   "metadata": {},
   "outputs": [],
   "source": []
  }
 ],
 "metadata": {
  "kernelspec": {
   "display_name": "base",
   "language": "python",
   "name": "python3"
  },
  "language_info": {
   "codemirror_mode": {
    "name": "ipython",
    "version": 3
   },
   "file_extension": ".py",
   "mimetype": "text/x-python",
   "name": "python",
   "nbconvert_exporter": "python",
   "pygments_lexer": "ipython3",
   "version": "3.8.8"
  },
  "orig_nbformat": 4
 },
 "nbformat": 4,
 "nbformat_minor": 2
}
