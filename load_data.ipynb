{
 "cells": [
  {
   "cell_type": "code",
   "execution_count": 8,
   "metadata": {},
   "outputs": [],
   "source": [
    "import pickle\n",
    "\n",
    "# open dictionary of lang to works with >=3 translations\n",
    "par3_fp = \"par3_top.pickle\"\n",
    "lang_to_top = pickle.load(open(par3_fp, 'rb'))"
   ]
  },
  {
   "cell_type": "code",
   "execution_count": 9,
   "metadata": {},
   "outputs": [
    {
     "name": "stdout",
     "output_type": "stream",
     "text": [
      "Lang:  de\n",
      "the_metamorphosis\n",
      "heidi\n",
      "the_notebooks_of_malte_laurids_brigge\n",
      "the_trial\n",
      "death_in_venice\n",
      "\n",
      "Lang:  ru\n",
      "the_death_of_ivan_ilyich\n",
      "dead_souls\n",
      "crime_and_punishment\n",
      "petersburg\n",
      "oblomov\n",
      "notes_from_underground\n",
      "fathers_and_sons\n",
      "brothers_karamazov\n",
      "the_gentleman_from_san_francisco\n",
      "the_idiot\n",
      "we\n",
      "poor_folk\n",
      "\n",
      "Lang:  no\n",
      "hunger\n",
      "\n",
      "Lang:  zh\n",
      "the_journey_to_the_west\n",
      "\n",
      "Lang:  fr\n",
      "les_miserables_2\n",
      "twenty_thousand_leagues_under_the_sea\n",
      "les_miserables_3\n",
      "nana\n",
      "the_phantom_of_the_opera\n",
      "les_miserables_1\n",
      "\n",
      "Lang:  ta\n",
      "ponniyin_selvan_1_the_first_floods\n",
      "\n",
      "Lang:  ja\n",
      "rashomon\n",
      "\n"
     ]
    }
   ],
   "source": [
    "for lang in lang_to_top:\n",
    "    print('Lang: ', lang)\n",
    "    for title in lang_to_top[lang]:\n",
    "        print(title)\n",
    "    print()"
   ]
  }
 ],
 "metadata": {
  "kernelspec": {
   "display_name": "domains",
   "language": "python",
   "name": "python3"
  },
  "language_info": {
   "codemirror_mode": {
    "name": "ipython",
    "version": 3
   },
   "file_extension": ".py",
   "mimetype": "text/x-python",
   "name": "python",
   "nbconvert_exporter": "python",
   "pygments_lexer": "ipython3",
   "version": "3.8.8"
  },
  "orig_nbformat": 4
 },
 "nbformat": 4,
 "nbformat_minor": 2
}
